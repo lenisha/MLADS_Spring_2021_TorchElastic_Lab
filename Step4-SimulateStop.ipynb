{
 "metadata": {
  "language_info": {
   "codemirror_mode": {
    "name": "ipython",
    "version": 3
   },
   "file_extension": ".py",
   "mimetype": "text/x-python",
   "name": "python",
   "nbconvert_exporter": "python",
   "pygments_lexer": "ipython3",
   "version": "3.8.5"
  },
  "orig_nbformat": 2,
  "kernelspec": {
   "name": "python3",
   "display_name": "Python 3.8.5 64-bit"
  },
  "interpreter": {
   "hash": "e7370f93d1d0cde622a1f8e1c04877d8463912d04d973331ad4851f04de6915a"
  }
 },
 "nbformat": 4,
 "nbformat_minor": 2,
 "cells": [
  {
   "source": [
    "# Verify Elastic Pytorch training fault tolerance\n",
    "In this notebook we will \n",
    "- Simulate SpotVM node eviction\n",
    "- Verify ElasticJob Fault Tolerance\n",
    "- Scale number of Nodes and verify Training job autoscaling\n"
   ],
   "cell_type": "markdown",
   "metadata": {}
  },
  {
   "cell_type": "code",
   "execution_count": 41,
   "metadata": {},
   "outputs": [],
   "source": [
    "resource_group = \"elastic-lab\"   # replace with values from Step1 or use this default\n",
    "aks_name = \"elasticaks\"          # replace with values from Step1 or use this default\n",
    "aks_spot_nodepool = \"spotgpu\"    # replace with values from Step1 or use this default"
   ]
  },
  {
   "cell_type": "code",
   "execution_count": 45,
   "metadata": {},
   "outputs": [
    {
     "output_type": "stream",
     "name": "stdout",
     "text": [
      "NAME                                 STATUS   ROLES   AGE     VERSION\n",
      "aks-cpuworkers-40607851-vmss000000   Ready    agent   7h13m   v1.18.17\n",
      "aks-cpuworkers-40607851-vmss000003   Ready    agent   6h54m   v1.18.17\n",
      "aks-nodepool1-40607851-vmss000000    Ready    agent   7h57m   v1.18.17\n",
      "aks-spotgpu-40607851-vmss000000      Ready    agent   27m     v1.18.17\n",
      "aks-spotgpu-40607851-vmss000001      Ready    agent   27m     v1.18.17\n",
      "NAME                                          READY   STATUS    RESTARTS   AGE     IP            NODE                                 NOMINATED NODE   READINESS GATES\n",
      "elastic-job-k8s-controller-5b9bc6b79c-xvdsw   1/1     Running   0          4h25m   10.244.13.2   aks-cpuworkers-40607851-vmss000003   <none>           <none>\n",
      "etcd                                          1/1     Running   0          4h31m   10.244.12.2   aks-cpuworkers-40607851-vmss000000   <none>           <none>\n",
      "imagenet-worker-0                             1/1     Running   0          23m     10.244.17.4   aks-spotgpu-40607851-vmss000001      <none>           <none>\n",
      "imagenet-worker-1                             1/1     Running   0          23m     10.244.17.3   aks-spotgpu-40607851-vmss000001      <none>           <none>\n",
      "imagenet-worker-2                             1/1     Running   0          23m     10.244.16.4   aks-spotgpu-40607851-vmss000000      <none>           <none>\n"
     ]
    }
   ],
   "source": [
    "# Get currently running pods on the spotvm nodes\n",
    "!kubectl get nodes\n",
    "!kubectl get pods -n elastic-job -o wide"
   ]
  },
  {
   "cell_type": "code",
   "execution_count": 46,
   "metadata": {},
   "outputs": [],
   "source": [
    "# Run commands to get all variables for REST API and strip beginning and end quotes\n",
    "subscription_id = !az account show --query id \n",
    "subscription_id = str(subscription_id[0][1:-1])\n",
    "node_rg = !az aks show --resource-group {resource_group} --name {aks_name} --query nodeResourceGroup --only-show-errors\n",
    "node_rg = str(node_rg[0][1:-1])\n",
    "vmss_name= !az vmss list -g MC_elastic-lab_elasticaks_eastus2 --query '[].name' -o tsv | grep spot\n",
    "vmss_name = vmss_name[0]\n",
    "instance_id = 1 ## Fill it in if different node !!"
   ]
  },
  {
   "source": [
    "For information on SpotVM eviction see [Simulate an eviction docs](https://docs.microsoft.com/en-us/azure/virtual-machine-scale-sets/use-spot#simulate-an-eviction)\n",
    "Use REST API to simulate SpotVM eviction (it can also be tested using Azure API Console https://docs.microsoft.com/en-us/rest/api/compute/virtualmachinescalesetvms/simulateeviction#code-try-0)\n",
    "\n",
    "Response HTTP Code should be 204 , accepting the event"
   ],
   "cell_type": "markdown",
   "metadata": {}
  },
  {
   "cell_type": "code",
   "execution_count": 47,
   "metadata": {},
   "outputs": [
    {
     "output_type": "stream",
     "name": "stdout",
     "text": [
      "\u001b[32mRequest URL: 'https://management.azure.com/subscriptions/f869415f-5cff-46a3-b728-20659d14d62d/resourceGroups/MC_elastic-lab_elasticaks_eastus2/providers/Microsoft.Compute/virtualMachineScaleSets/aks-spotgpu-40607851-vmss/virtualMachines/1/simulateEviction?api-version=2020-12-01'\u001b[0m\n",
      "\u001b[32mRequest method: 'POST'\u001b[0m\n",
      "\u001b[32mRequest headers:\u001b[0m\n",
      "\u001b[32m    'User-Agent': 'python/3.6.10 (Linux-5.4.72-microsoft-standard-WSL2-x86_64-with-debian-bullseye-sid) AZURECLI/2.19.1 (DEB)'\u001b[0m\n",
      "\u001b[32m    'Accept-Encoding': 'gzip, deflate'\u001b[0m\n",
      "\u001b[32m    'Accept': '*/*'\u001b[0m\n",
      "\u001b[32m    'Connection': 'keep-alive'\u001b[0m\n",
      "\u001b[32m    'x-ms-client-request-id': '786e7e09-9026-41c6-9e4f-58c9eb0eaa88'\u001b[0m\n",
      "\u001b[32m    'CommandName': 'rest'\u001b[0m\n",
      "\u001b[32m    'ParameterSetName': '--verbose --method --uri'\u001b[0m\n",
      "\u001b[32m    'Authorization': 'Bearer eyJ0eXAiOiJKV...'\u001b[0m\n",
      "\u001b[32m    'Content-Length': '0'\u001b[0m\n",
      "\u001b[32mRequest body:\u001b[0m\n",
      "\u001b[32mNone\u001b[0m\n",
      "\u001b[32mResponse status: 204\u001b[0m\n",
      "\u001b[32mResponse headers:\u001b[0m\n",
      "\u001b[32m    'Cache-Control': 'no-cache'\u001b[0m\n",
      "\u001b[32m    'Pragma': 'no-cache'\u001b[0m\n",
      "\u001b[32m    'Expires': '-1'\u001b[0m\n",
      "\u001b[32m    'Strict-Transport-Security': 'max-age=31536000; includeSubDomains'\u001b[0m\n",
      "\u001b[32m    'x-ms-request-id': 'fadfadef-37b4-4aed-bac7-737c3bbf629e'\u001b[0m\n",
      "\u001b[32m    'Server': 'Microsoft-HTTPAPI/2.0, Microsoft-HTTPAPI/2.0'\u001b[0m\n",
      "\u001b[32m    'x-ms-ratelimit-remaining-subscription-writes': '1198'\u001b[0m\n",
      "\u001b[32m    'x-ms-correlation-request-id': 'a99f3b0b-d50a-49b6-bdc6-26e8269dfdbc'\u001b[0m\n",
      "\u001b[32m    'x-ms-routing-request-id': 'CANADACENTRAL:20210524T051505Z:a99f3b0b-d50a-49b6-bdc6-26e8269dfdbc'\u001b[0m\n",
      "\u001b[32m    'X-Content-Type-Options': 'nosniff'\u001b[0m\n",
      "\u001b[32m    'Date': 'Mon, 24 May 2021 05:15:05 GMT'\u001b[0m\n",
      "\u001b[32mResponse content:\u001b[0m\n",
      "\u001b[32m\u001b[0m\n",
      "\u001b[32mCommand ran in 1.013 seconds (init: 0.306, invoke: 0.706)\u001b[0m\n",
      "\u001b[0m"
     ]
    }
   ],
   "source": [
    "!az rest --verbose --method POST \\\n",
    "   --uri 'https://management.azure.com/subscriptions/{subscription_id}/resourceGroups/{node_rg}/providers/Microsoft.Compute/virtualMachineScaleSets/{vmss_name}/virtualMachines/{instance_id}/simulateEviction?api-version=2020-12-01'"
   ]
  },
  {
   "source": [
    "Eviction event is sent and it might take a minute or so to remove a node, run the cell few times until you see node removed and some of the worker Pods in `Pending` state "
   ],
   "cell_type": "markdown",
   "metadata": {}
  },
  {
   "cell_type": "code",
   "execution_count": 52,
   "metadata": {},
   "outputs": [
    {
     "output_type": "stream",
     "name": "stdout",
     "text": [
      "NAME                                 STATUS   ROLES   AGE     VERSION\n",
      "aks-cpuworkers-40607851-vmss000000   Ready    agent   7h15m   v1.18.17\n",
      "aks-cpuworkers-40607851-vmss000003   Ready    agent   6h56m   v1.18.17\n",
      "aks-nodepool1-40607851-vmss000000    Ready    agent   7h59m   v1.18.17\n",
      "aks-spotgpu-40607851-vmss000000      Ready    agent   29m     v1.18.17\n",
      "NAME                                          READY   STATUS    RESTARTS   AGE\n",
      "elastic-job-k8s-controller-5b9bc6b79c-xvdsw   1/1     Running   0          4h27m\n",
      "etcd                                          1/1     Running   0          4h33m\n",
      "imagenet-worker-0                             0/1     Pending   0          11s\n",
      "imagenet-worker-1                             1/1     Running   0          11s\n",
      "imagenet-worker-2                             1/1     Running   0          25m\n"
     ]
    }
   ],
   "source": [
    "# Verify the node was removed from pool and workers on the node stoped\n",
    "!kubectl get nodes\n",
    "!kubectl get pods -n elastic-job"
   ]
  },
  {
   "source": [
    "Once Node is evicted, workers on the removed node is deleted, and the rest of the running workers will detect that the process group has changed and rendezevous server will adjust the training accoringly.\n",
    "\n",
    "Notice restart_count, group_rank and and process epoch in the logs:"
   ],
   "cell_type": "markdown",
   "metadata": {}
  },
  {
   "cell_type": "code",
   "execution_count": 57,
   "metadata": {},
   "outputs": [
    {
     "output_type": "stream",
     "name": "stdout",
     "text": [
      "=> using checkpoint from rank: 1, max_epoch: 0\n",
      "=> checkpoint broadcast size is: 93588276\n",
      "=> done broadcasting checkpoint\n",
      "=> done restoring from previous checkpoint\n",
      "=> start_epoch: 1, best_acc1: 0.6399999856948853\n",
      "Epoch: [1][  0/782]\tTime  4.830 ( 4.830)\tData  1.852 ( 1.852)\tLoss 4.6512e+00 (4.6512e+00)\tAcc@1   6.25 (  6.25)\tAcc@5  17.19 ( 17.19)\n",
      "Epoch: [1][ 10/782]\tTime  2.197 ( 2.201)\tData  1.704 ( 1.494)\tLoss 4.1309e+00 (4.3900e+00)\tAcc@1  12.50 (  8.95)\tAcc@5  34.38 ( 25.85)\n",
      "Epoch: [1][ 20/782]\tTime  1.499 ( 2.043)\tData  1.100 ( 1.457)\tLoss 4.3086e+00 (4.4244e+00)\tAcc@1   6.25 (  8.71)\tAcc@5  25.00 ( 24.48)\n",
      "Epoch: [1][ 30/782]\tTime  1.606 ( 1.939)\tData  1.210 ( 1.380)\tLoss 4.4815e+00 (4.4541e+00)\tAcc@1   4.69 (  8.11)\tAcc@5  23.44 ( 23.94)\n",
      "Epoch: [1][ 40/782]\tTime  1.820 ( 1.890)\tData  1.234 ( 1.336)\tLoss 4.4205e+00 (4.4695e+00)\tAcc@1  12.50 (  8.08)\tAcc@5  25.00 ( 23.86)\n",
      "=> checkpoint broadcast size is: 93588276\n",
      "/opt/conda/conda-bld/pytorch_1587428398394/work/torch/csrc/utils/tensor_numpy.cpp:141: UserWarning: The given NumPy array is not writeable, and PyTorch does not support non-writeable tensors. This means you can write to the underlying (supposedly non-writeable) NumPy array using the tensor. You may want to copy the array to protect its data or make it writeable before converting it to a tensor. This type of warning will be suppressed for the rest of this program.\n",
      "=> done broadcasting checkpoint\n",
      "=> done restoring from previous checkpoint\n",
      "=> start_epoch: 1, best_acc1: 0.6399999856948853\n",
      "Epoch: [1][  0/782]\tTime  4.831 ( 4.831)\tData  1.363 ( 1.363)\tLoss 4.6879e+00 (4.6879e+00)\tAcc@1   6.25 (  6.25)\tAcc@5  14.06 ( 14.06)\n",
      "Epoch: [1][ 10/782]\tTime  2.197 ( 2.201)\tData  1.820 ( 1.477)\tLoss 4.3488e+00 (4.4434e+00)\tAcc@1   7.81 (  9.23)\tAcc@5  25.00 ( 24.43)\n",
      "Epoch: [1][ 20/782]\tTime  1.496 ( 2.043)\tData  1.098 ( 1.453)\tLoss 4.6689e+00 (4.5220e+00)\tAcc@1   6.25 (  8.18)\tAcc@5  18.75 ( 23.14)\n",
      "Epoch: [1][ 30/782]\tTime  1.606 ( 1.939)\tData  1.221 ( 1.400)\tLoss 4.7405e+00 (4.5395e+00)\tAcc@1   4.69 (  7.76)\tAcc@5  18.75 ( 22.68)\n",
      "Epoch: [1][ 40/782]\tTime  1.815 ( 1.890)\tData  1.431 ( 1.378)\tLoss 4.6776e+00 (4.5438e+00)\tAcc@1   3.12 (  7.70)\tAcc@5  17.19 ( 22.64)\n"
     ]
    }
   ],
   "source": [
    " !kubectl logs -ljob-name=imagenet -n elastic-job --since 10m"
   ]
  },
  {
   "source": [
    "Scale  Up the Spot Node Pool and note the new workers starting to run on the newly added nodes, and Rendezevous process adjusting accordingly"
   ],
   "cell_type": "markdown",
   "metadata": {}
  },
  {
   "cell_type": "code",
   "execution_count": 58,
   "metadata": {},
   "outputs": [
    {
     "output_type": "stream",
     "name": "stdout",
     "text": [
      "\u001b[33mThe behavior of this command has been altered by the following extension: aks-preview\u001b[0m\n",
      "\u001b[91mThe new node count is the same as the current node count.\u001b[0m\n",
      "\u001b[0m"
     ]
    }
   ],
   "source": [
    "!az aks nodepool scale --cluster-name {aks_name} \\\n",
    "                      --name {aks_spot_nodepool} \\\n",
    "                      --resource-group {resource_group} \\\n",
    "                      --node-count 2"
   ]
  },
  {
   "cell_type": "code",
   "execution_count": null,
   "metadata": {},
   "outputs": [],
   "source": [
    "# Verify the node was added to the pool and all workers are running\n",
    "!kubectl get nodes\n",
    "!kubectl get pods -n elastic-job"
   ]
  },
  {
   "cell_type": "code",
   "execution_count": null,
   "metadata": {},
   "outputs": [],
   "source": [
    "# Verify new Rendezevous group was created and workers readjusted\n",
    "!kubectl logs -ljob-name=imagenet -n elastic-job "
   ]
  },
  {
   "source": [
    "## Summary\n",
    "\n",
    "This Lab has demonstrated Torch Elastic capabilities and ability to run Fault tolerant elastic training.\n",
    "\n",
    "Great job for completeing it."
   ],
   "cell_type": "markdown",
   "metadata": {}
  }
 ]
}