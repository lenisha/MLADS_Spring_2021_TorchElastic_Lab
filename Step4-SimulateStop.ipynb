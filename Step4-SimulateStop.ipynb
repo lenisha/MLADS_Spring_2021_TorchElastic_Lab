{
 "metadata": {
  "language_info": {
   "codemirror_mode": {
    "name": "ipython",
    "version": 3
   },
   "file_extension": ".py",
   "mimetype": "text/x-python",
   "name": "python",
   "nbconvert_exporter": "python",
   "pygments_lexer": "ipython3",
   "version": "3.8.5"
  },
  "orig_nbformat": 2,
  "kernelspec": {
   "name": "python3",
   "display_name": "Python 3.8.5 64-bit"
  },
  "interpreter": {
   "hash": "e7370f93d1d0cde622a1f8e1c04877d8463912d04d973331ad4851f04de6915a"
  }
 },
 "nbformat": 4,
 "nbformat_minor": 2,
 "cells": [
  {
   "source": [
    "# Verify Elastic Pytorch training fault tolerance\n",
    "In this notebook we will \n",
    "- Simulate SpotVM node eviction\n",
    "- Verify ElasticJob Fault Tolerance\n",
    "- Scale number of Nodes and verify Training job autoscaling\n"
   ],
   "cell_type": "markdown",
   "metadata": {}
  },
  {
   "cell_type": "code",
   "execution_count": 36,
   "metadata": {},
   "outputs": [],
   "source": [
    "resource_group = \"elastic-lab\"   # replace with values from Step1 or use this default\n",
    "aks_name = \"elasticaks\"          # replace with values from Step1 or use this default\n",
    "aks_spot_nodepool = \"spotgpu\"    # replace with values from Step1 or use this default"
   ]
  },
  {
   "cell_type": "code",
   "execution_count": 37,
   "metadata": {},
   "outputs": [
    {
     "output_type": "stream",
     "name": "stdout",
     "text": [
      "NAME                                          READY   STATUS    RESTARTS   AGE    IP            NODE                                 NOMINATED NODE   READINESS GATES\nelastic-job-k8s-controller-5b9bc6b79c-xvdsw   1/1     Running   0          4h4m   10.244.13.2   aks-cpuworkers-40607851-vmss000003   <none>           <none>\netcd                                          1/1     Running   0          4h9m   10.244.12.2   aks-cpuworkers-40607851-vmss000000   <none>           <none>\nimagenet-worker-0                             1/1     Running   0          76s    10.244.17.4   aks-spotgpu-40607851-vmss000001      <none>           <none>\nimagenet-worker-1                             1/1     Running   0          76s    10.244.17.3   aks-spotgpu-40607851-vmss000001      <none>           <none>\nimagenet-worker-2                             1/1     Running   0          76s    10.244.16.4   aks-spotgpu-40607851-vmss000000      <none>           <none>\n"
     ]
    }
   ],
   "source": [
    "# Get currently running pods on the spotvm nodes\n",
    "!kubectl get pods -n elastic-job -o wide"
   ]
  },
  {
   "cell_type": "code",
   "execution_count": 38,
   "metadata": {},
   "outputs": [],
   "source": [
    "# Run commands to get all variables for REST API and strip beginning and end quotes\n",
    "subscription_id = !az account show --query id \n",
    "subscription_id = str(subscription_id[0][1:-1])\n",
    "node_rg = !az aks show --resource-group {resource_group} --name {aks_name} --query nodeResourceGroup --only-show-errors\n",
    "node_rg = str(node_rg[0][1:-1])\n",
    "vmss_name= !az vmss list -g MC_elastic-lab_elasticaks_eastus2 --query '[].name' -o tsv | grep spot\n",
    "vmss_name = vmss_name[0]\n",
    "instance_id = 1 ## Fill it in if different node !!"
   ]
  },
  {
   "source": [
    "For information on SpotVM eviction see [Simulate an eviction docs](https://docs.microsoft.com/en-us/azure/virtual-machine-scale-sets/use-spot#simulate-an-eviction)\n",
    "Use REST API to simulate SpotVM eviction (it can also be tested using Azure API Console https://docs.microsoft.com/en-us/rest/api/compute/virtualmachinescalesetvms/simulateeviction#code-try-0)\n",
    "\n",
    "Response HTTP Code should be 204 , accepting the event"
   ],
   "cell_type": "markdown",
   "metadata": {}
  },
  {
   "cell_type": "code",
   "execution_count": 33,
   "metadata": {},
   "outputs": [
    {
     "output_type": "stream",
     "name": "stdout",
     "text": [
      "\u001b[32mRequest URL: 'https://management.azure.com/subscriptions/f869415f-5cff-46a3-b728-20659d14d62d/resourceGroups/MC_elastic-lab_elasticaks_eastus2/providers/Microsoft.Compute/virtualMachineScaleSets/aks-spotgpu-40607851-vmss/virtualMachines/1/simulateEviction?api-version=2020-12-01'\u001b[0m\n",
      "\u001b[32mRequest method: 'POST'\u001b[0m\n",
      "\u001b[32mRequest headers:\u001b[0m\n",
      "\u001b[32m    'User-Agent': 'python/3.6.10 (Linux-5.4.72-microsoft-standard-WSL2-x86_64-with-debian-bullseye-sid) AZURECLI/2.19.1 (DEB)'\u001b[0m\n",
      "\u001b[32m    'Accept-Encoding': 'gzip, deflate'\u001b[0m\n",
      "\u001b[32m    'Accept': '*/*'\u001b[0m\n",
      "\u001b[32m    'Connection': 'keep-alive'\u001b[0m\n",
      "\u001b[32m    'x-ms-client-request-id': 'b216b8aa-1c4b-4e13-89c1-46f88017015b'\u001b[0m\n",
      "\u001b[32m    'CommandName': 'rest'\u001b[0m\n",
      "\u001b[32m    'ParameterSetName': '--verbose --method --uri'\u001b[0m\n",
      "\u001b[32m    'Authorization': 'Bearer eyJ0eXAiOiJKV...'\u001b[0m\n",
      "\u001b[32m    'Content-Length': '0'\u001b[0m\n",
      "\u001b[32mRequest body:\u001b[0m\n",
      "\u001b[32mNone\u001b[0m\n",
      "\u001b[32mResponse status: 204\u001b[0m\n",
      "\u001b[32mResponse headers:\u001b[0m\n",
      "\u001b[32m    'Cache-Control': 'no-cache'\u001b[0m\n",
      "\u001b[32m    'Pragma': 'no-cache'\u001b[0m\n",
      "\u001b[32m    'Expires': '-1'\u001b[0m\n",
      "\u001b[32m    'Strict-Transport-Security': 'max-age=31536000; includeSubDomains'\u001b[0m\n",
      "\u001b[32m    'x-ms-request-id': '2127b59b-5071-4b2a-8471-729f0c6ea30c'\u001b[0m\n",
      "\u001b[32m    'Server': 'Microsoft-HTTPAPI/2.0, Microsoft-HTTPAPI/2.0'\u001b[0m\n",
      "\u001b[32m    'x-ms-ratelimit-remaining-subscription-writes': '1199'\u001b[0m\n",
      "\u001b[32m    'x-ms-correlation-request-id': '38ecc085-e521-4a29-8680-824fca4d45b1'\u001b[0m\n",
      "\u001b[32m    'x-ms-routing-request-id': 'CANADACENTRAL:20210524T042608Z:38ecc085-e521-4a29-8680-824fca4d45b1'\u001b[0m\n",
      "\u001b[32m    'X-Content-Type-Options': 'nosniff'\u001b[0m\n",
      "\u001b[32m    'Date': 'Mon, 24 May 2021 04:26:08 GMT'\u001b[0m\n",
      "\u001b[32mResponse content:\u001b[0m\n",
      "\u001b[32m\u001b[0m\n",
      "\u001b[32mCommand ran in 0.919 seconds (init: 0.283, invoke: 0.636)\u001b[0m\n",
      "\u001b[0m"
     ]
    }
   ],
   "source": [
    "!az rest --verbose --method POST \\\n",
    "   --uri 'https://management.azure.com/subscriptions/{subscription_id}/resourceGroups/{node_rg}/providers/Microsoft.Compute/virtualMachineScaleSets/{vmss_name}/virtualMachines/{instance_id}/simulateEviction?api-version=2020-12-01'"
   ]
  },
  {
   "cell_type": "code",
   "execution_count": null,
   "metadata": {},
   "outputs": [],
   "source": [
    "# Verify the node was removed from pool and workers on the node stoped\n",
    "!kubectl get nodes\n",
    "!kubectl get pods -n elastic-job"
   ]
  },
  {
   "source": [
    "Once Node is evicted, workers on the removed node is deleted, and the rest of the running workers will detect that the process group has changed and rendezevous server will adjust the training accoringly.\n",
    "\n",
    "Notice restart_count, group_rank and and process epoch in the logs:"
   ],
   "cell_type": "markdown",
   "metadata": {}
  },
  {
   "cell_type": "code",
   "execution_count": null,
   "metadata": {},
   "outputs": [],
   "source": [
    " !kubectl logs -ljob-name=imagenet -n elastic-job "
   ]
  },
  {
   "source": [
    "Scale  Up the Spot Node Pool and note the new workers starting to run on the newly added nodes, and Rendezevous process adjusting accordingly"
   ],
   "cell_type": "markdown",
   "metadata": {}
  },
  {
   "cell_type": "code",
   "execution_count": 35,
   "metadata": {},
   "outputs": [
    {
     "output_type": "stream",
     "name": "stdout",
     "text": [
      "\u001b[33mThe behavior of this command has been altered by the following extension: aks-preview\u001b[0m\n",
      "\u001b[91mCannot scale cluster autoscaler enabled node pool.\u001b[0m\n",
      "\u001b[0m"
     ]
    }
   ],
   "source": [
    "!az aks nodepool scale --cluster-name {aks_name} \\\n",
    "                      --name {aks_spot_nodepool} \\\n",
    "                      --resource-group {resource_group} \\\n",
    "                      --node-count 1"
   ]
  },
  {
   "cell_type": "code",
   "execution_count": null,
   "metadata": {},
   "outputs": [],
   "source": [
    "!kubectl logs -ljob-name=imagenet -n elastic-job "
   ]
  },
  {
   "source": [
    "## Summary\n",
    "\n",
    "This Lab has demonstrated Torch Elastic capabilities and ability to run Fault tolerant elastic training.\n",
    "\n",
    "Great job for completeing it."
   ],
   "cell_type": "markdown",
   "metadata": {}
  }
 ]
}