{
 "metadata": {
  "language_info": {
   "codemirror_mode": {
    "name": "ipython",
    "version": 3
   },
   "file_extension": ".py",
   "mimetype": "text/x-python",
   "name": "python",
   "nbconvert_exporter": "python",
   "pygments_lexer": "ipython3",
   "version": "3.8.5"
  },
  "orig_nbformat": 2,
  "kernelspec": {
   "name": "python3",
   "display_name": "Python 3.8.5 64-bit"
  },
  "interpreter": {
   "hash": "916dbcbb3f70747c44a77c7bcd40155683ae19c65e1c03b4aa3499c5328201f1"
  }
 },
 "nbformat": 4,
 "nbformat_minor": 2,
 "cells": [
  {
   "source": [
    "# Setup Azure Kubernetes Infrastructure\n",
    "In this notebook we will setup \n",
    "- An AKS cluster with\n",
    "  - **GPU enabled Spot VM nodepool** for running elastic training\n",
    "  - **CPU VM nodepool** for running Rendezevous server - training control plane\n",
    "- Azure Storage Account for hosting training data and model training checkpoints\n",
    "- Deploy Kubernetes Components\n",
    "  - **Azure Blob CSI Driver** to map Blob storage to container as persistent volumes\n",
    "  - Kubernetes **PersistentVolume** and PersistentVolumeClaim"
   ],
   "cell_type": "markdown",
   "metadata": {}
  },
  {
   "source": [
    "## Define Variables\n",
    "Set variables required for the project"
   ],
   "cell_type": "markdown",
   "metadata": {}
  },
  {
   "cell_type": "code",
   "execution_count": null,
   "metadata": {},
   "outputs": [],
   "source": [
    "subscription_id = \"\"             # fill in\n",
    "resource_group = \"elastic-lab\"   # feel free to replace or use this default\n",
    "region = \"eastus2\"               # ffeel free to replace or use this default\n",
    "\n",
    "storage_account_name = \"<name >\"        # fill in\n",
    "storage_container_name = \"workerdata\"             \n",
    "\n",
    "aks_name = \"elasticaks\"    # feel free to replace or use this default\n",
    "aks_spot_nodepool = \"spotgpu\"       # feel free to replace or use this default\n",
    "aks_cpu_nodepool = \"cpuworkers\"     # feel free to replace or use this default\n",
    "aks_gpu_sku = \"Standard_NC12\"       # feel free to replace or use this default "
   ]
  },
  {
   "source": [
    "## Azure account login\n",
    "If you are not already logged in to an Azure account, the command below will initiate a login. This will pop up a browser where you can select your login. (if no web browser is available or if the web browser fails to open, use device code flow with `az login --use-device-code` or login in WSL command  prompt and proceed to notebook)"
   ],
   "cell_type": "markdown",
   "metadata": {}
  },
  {
   "cell_type": "code",
   "execution_count": null,
   "metadata": {},
   "outputs": [],
   "source": [
    "%%bash\n",
    "az login -o table\n"
   ]
  },
  {
   "cell_type": "code",
   "execution_count": null,
   "metadata": {},
   "outputs": [],
   "source": [
    "!az account set --subscription \"$subscription_id\""
   ]
  },
  {
   "cell_type": "code",
   "execution_count": null,
   "metadata": {},
   "outputs": [],
   "source": [
    "!az account show"
   ]
  },
  {
   "source": [
    "## Create Resource Group\n",
    "Azure encourages the use of groups to organize all the Azure components you deploy. That way it is easier to find them but also we can delete a number of resources simply by deleting the group."
   ],
   "cell_type": "markdown",
   "metadata": {}
  },
  {
   "cell_type": "code",
   "execution_count": null,
   "metadata": {},
   "outputs": [],
   "source": [
    "!az group create -l {region} -n {resource_group}"
   ]
  },
  {
   "source": [
    "## Create AKS Cluster and NodePools\n",
    "Below, we create the AKS cluster with default 1 system node (to save time, in production use more nodes as per best practices) in the resource group we created earlier. This step can take 5 or more minutes.\n"
   ],
   "cell_type": "markdown",
   "metadata": {}
  },
  {
   "cell_type": "code",
   "execution_count": null,
   "metadata": {},
   "outputs": [],
   "source": [
    "%%time\n",
    "!az aks create --resource-group {resource_group} \\\n",
    "    --name {aks_name} \\\n",
    "    --node-vm-size Standard_D2s_v3 \\\n",
    "    --node-count 1 \\\n",
    "    --location {region}  \\\n",
    "    --kubernetes-version 1.18.17 \\\n",
    "    --generate-ssh-keys"
   ]
  },
  {
   "source": [
    "## Connect to AKS Cluster\n",
    "To configure kubectl to connect to Kubernetes cluster, run the following command"
   ],
   "cell_type": "markdown",
   "metadata": {}
  },
  {
   "cell_type": "code",
   "execution_count": null,
   "metadata": {},
   "outputs": [],
   "source": [
    "!az aks get-credentials --resource-group {resource_group} --name {aks_name}"
   ]
  },
  {
   "source": [
    "Let's verify connection by listing the nodes."
   ],
   "cell_type": "markdown",
   "metadata": {}
  },
  {
   "cell_type": "code",
   "execution_count": null,
   "metadata": {},
   "outputs": [],
   "source": [
    "!kubectl get nodes"
   ]
  },
  {
   "source": [
    "Taint System node with `CriticalAddonsOnly` taint so it is available only for system workloads"
   ],
   "cell_type": "markdown",
   "metadata": {}
  },
  {
   "cell_type": "code",
   "execution_count": null,
   "metadata": {},
   "outputs": [],
   "source": [
    "!kubectl taint nodes -l agentpool=nodepool1 CriticalAddonsOnly=true:NoSchedule --overwrite\n"
   ]
  },
  {
   "source": [
    "## Create GPU enabled and CPU Node Pools\n",
    "To create GPU enabled nodepool, will use fully configured AKS image that contains the NVIDIA device plugin for Kubenetes, see [Use the AKS specialized GPU image (preview)](https://docs.microsoft.com/en-us/azure/aks/gpu-cluster#use-the-aks-specialized-gpu-image-preview). Creating nodepools could take five or more minutes."
   ],
   "cell_type": "markdown",
   "metadata": {}
  },
  {
   "cell_type": "code",
   "execution_count": null,
   "metadata": {},
   "outputs": [],
   "source": [
    "%%time\n",
    "!az feature register --name GPUDedicatedVHDPreview --namespace Microsoft.ContainerService\n",
    "!az feature list -o table --query \"[?contains(name, 'Microsoft.ContainerService/GPUDedicatedVHDPreview')].{Name:name,State:properties.state}\"\n",
    "!az provider register --namespace Microsoft.ContainerService\n",
    "!az extension add --name aks-preview\n"
   ]
  },
  {
   "source": [
    "For more information on Azure Spot Nodepool https://docs.microsoft.com/en-us/azure/aks/spot-node-pool"
   ],
   "cell_type": "markdown",
   "metadata": {}
  },
  {
   "cell_type": "code",
   "execution_count": null,
   "metadata": {},
   "outputs": [],
   "source": [
    "%%time\n",
    "!az aks nodepool add \\\n",
    "    --resource-group {resource_group} \\\n",
    "    --cluster-name {aks_name} \\\n",
    "    --name {aks_spot_nodepool} \\\n",
    "    --priority Spot \\\n",
    "    --eviction-policy Delete \\\n",
    "    --spot-max-price -1 \\\n",
    "    --node-count 2 \\\n",
    "    --node-vm-size {aks_gpu_sku} \\\n",
    "    --aks-custom-headers UseGPUDedicatedVHD=true,usegen2vm=true"
   ]
  },
  {
   "source": [
    "## Verify GPU is available on Kubernetes Node\n",
    "Now use the kubectl describe node command to confirm that the GPUs are schedulable. Under the Capacity section, the GPU should list as nvidia.com/gpu: 2."
   ],
   "cell_type": "markdown",
   "metadata": {}
  },
  {
   "cell_type": "code",
   "execution_count": null,
   "metadata": {},
   "outputs": [],
   "source": [
    "!kubectl describe node -l kubernetes.azure.com/scalesetpriority=spot"
   ]
  },
  {
   "source": [
    "## Create CPU NodePool for running ETCD"
   ],
   "cell_type": "markdown",
   "metadata": {}
  },
  {
   "cell_type": "code",
   "execution_count": null,
   "metadata": {},
   "outputs": [],
   "source": [
    "%%time \n",
    "!az aks nodepool add \\\n",
    "  --resource-group {resource_group} \\\n",
    "    --cluster-name {aks_name} \\\n",
    "    --name {aks_cpu_nodepool} \\\n",
    "    --enable-cluster-autoscaler \\\n",
    "    --min-count 1 \\\n",
    "    --max-count 3 \\\n",
    "    --node-vm-size Standard_D2s_v3 "
   ]
  },
  {
   "source": [
    "## Verify Taints on the Kubernetes nodes\n",
    "Verify that system pool and have the Taints `CriticalAddonsOnly` and `kubernetes.azure.com/scalesetpriority` respectively   \n"
   ],
   "cell_type": "markdown",
   "metadata": {}
  },
  {
   "cell_type": "code",
   "execution_count": null,
   "metadata": {},
   "outputs": [],
   "source": [
    "!kubectl get nodes -o json | jq '.items[].spec.taints'"
   ]
  },
  {
   "source": [
    "# Create Storage Account for training data \n",
    "In this section of the notebook, we'll create an Azure blob storage that we'll use throughout the tutorial. This object store will be used to store input images and save checkpoints. Use `az cli` to create the account"
   ],
   "cell_type": "markdown",
   "metadata": {}
  },
  {
   "cell_type": "code",
   "execution_count": null,
   "metadata": {},
   "outputs": [],
   "source": [
    "%%time\n",
    "!az storage account create -n {storage_account_name} -g {resource_group} --query 'provisioningState'\n"
   ]
  },
  {
   "source": [
    "Grab the keys of the storage account that was just created.We would need them for binding Kubernetes Persistent Volume. The --quote '[0].value' part of the command simply means to select the value of the zero-th indexed of the set of keys."
   ],
   "cell_type": "markdown",
   "metadata": {}
  },
  {
   "cell_type": "code",
   "execution_count": null,
   "metadata": {},
   "outputs": [],
   "source": [
    "key = !az storage account keys list --account-name {storage_account_name} -g {resource_group} --query '[0].value'"
   ]
  },
  {
   "source": [
    "\n",
    "The stdout from the command above is stored in a string array of 1. Select the element in the array and strip opening and closing quotation marks."
   ],
   "cell_type": "markdown",
   "metadata": {}
  },
  {
   "cell_type": "code",
   "execution_count": null,
   "metadata": {},
   "outputs": [],
   "source": [
    "storage_account_key = str(key[0][1:-1]) # this is used to strip opening and closing quotation marks"
   ]
  },
  {
   "cell_type": "code",
   "execution_count": null,
   "metadata": {},
   "outputs": [],
   "source": [
    "# create storage container\n",
    "\n",
    "!az storage container create \\\n",
    "    --account-name {storage_account_name} \\\n",
    "    --account-key {storage_account_key} \\\n",
    "    --name {storage_container_name}"
   ]
  },
  {
   "source": [
    "# Install Kubernetes Blob CSI Driver \n",
    "[Azure Blob Storage CSI driver for Kubernetes](https://github.com/kubernetes-sigs/blob-csi-driver) allows Kubernetes to access Azure Storage. We will deploy it using Helm3 package manager as described in the docs https://github.com/kubernetes-sigs/blob-csi-driver/tree/master/charts"
   ],
   "cell_type": "markdown",
   "metadata": {}
  },
  {
   "cell_type": "code",
   "execution_count": null,
   "metadata": {},
   "outputs": [],
   "source": [
    "!helm repo add blob-csi-driver https://raw.githubusercontent.com/kubernetes-sigs/blob-csi-driver/master/charts\n",
    "!helm install blob-csi-driver blob-csi-driver/blob-csi-driver --namespace kube-system --version v1.1.0\n",
    "\n"
   ]
  },
  {
   "cell_type": "code",
   "execution_count": null,
   "metadata": {},
   "outputs": [],
   "source": [
    "!kubectl -n kube-system get pods -l \"app.kubernetes.io/instance=blob-csi-driver\""
   ]
  },
  {
   "source": [
    "## Create Persistent Volume for Azure Blob\n",
    "For more details on creating   `PersistentVolume` using CSI driver refer to https://github.com/kubernetes-sigs/blob-csi-driver/blob/master/deploy/example/e2e_usage.md"
   ],
   "cell_type": "markdown",
   "metadata": {}
  },
  {
   "cell_type": "code",
   "execution_count": null,
   "metadata": {},
   "outputs": [],
   "source": [
    "!kubectl create namespace elastic-job\n",
    "# Create secret to access storage account\n",
    "!kubectl create secret generic azure-blobsecret --from-literal azurestorageaccountname={storage_account_name} --from-literal azurestorageaccountkey=\"{storage_account_key}\" --type=Opaque -n elastic-job"
   ]
  },
  {
   "source": [
    "Persistent Volume YAML definition is in `kube/azure-blobfules-pv.yaml` with fields pointing to secret created above and containername we created in storage account:\n",
    "```yaml\n",
    "  csi:\n",
    "    driver: blob.csi.azure.com\n",
    "    readOnly: false\n",
    "    volumeHandle: trainingdata  # make sure this volumeid is unique in the cluster\n",
    "    volumeAttributes:\n",
    "      containerName: workerdata # Modify if changed in Notebook\n",
    "    nodeStageSecretRef:\n",
    "      name: azure-blobsecret\n",
    "      namespace: elastic-job\n",
    "```"
   ],
   "cell_type": "markdown",
   "metadata": {}
  },
  {
   "cell_type": "code",
   "execution_count": null,
   "metadata": {},
   "outputs": [],
   "source": [
    "# Create PersistentVolume and PersistenVollumeClaim for container mounts\n",
    "!kubectl apply -f kube/azure-blobfuse-pv.yaml"
   ]
  },
  {
   "source": [
    "Now all the Kubernetes preparation steps are done, we will look at adjusting training script to be able to run it in Elastic Fault tolerant way \n",
    "\n",
    "Proceed to [Step 2 Distributed Training Script](/Step2-DistributedTraining.md)"
   ],
   "cell_type": "markdown",
   "metadata": {}
  }
 ]
}