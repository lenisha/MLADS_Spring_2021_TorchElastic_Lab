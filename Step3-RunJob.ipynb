{
 "metadata": {
  "language_info": {
   "codemirror_mode": {
    "name": "ipython",
    "version": 3
   },
   "file_extension": ".py",
   "mimetype": "text/x-python",
   "name": "python",
   "nbconvert_exporter": "python",
   "pygments_lexer": "ipython3",
   "version": "3.8.5"
  },
  "orig_nbformat": 2,
  "kernelspec": {
   "name": "python3",
   "display_name": "Python 3.8.5 64-bit"
  },
  "interpreter": {
   "hash": "e7370f93d1d0cde622a1f8e1c04877d8463912d04d973331ad4851f04de6915a"
  }
 },
 "nbformat": 4,
 "nbformat_minor": 2,
 "cells": [
  {
   "source": [
    "# Run Distributed Training Job\n",
    "In this notebook we will\n",
    "- Deploy Torch Elastic Kubernetes components \n",
    "  - Torch Elastic Operator\n",
    "  - ETCD server for training control plane\n",
    "- Prepare and Deploy `ElasticJob` based on PyTorch Elastic ImageNet Training  \n",
    "- Validate Training is running on multiple GPU workers\n",
    "\n",
    "This notebook will deploy all components as per our architecure and run the training job \n",
    "![architecture](docs/architecture.jpg)"
   ],
   "cell_type": "markdown",
   "metadata": {}
  },
  {
   "source": [
    "## Deploy Torch Elastic Kubernetes components\n",
    "\n",
    "## ETCD server\n",
    "First we will install ETCD server whcih will act as Rendezevous server orchestrating training workers.\n",
    "In this example we use simple ETCD pod/service deployment, for production use Helm chart that deploy `ETCD` in HA mode."
   ],
   "cell_type": "markdown",
   "metadata": {}
  },
  {
   "cell_type": "code",
   "execution_count": 2,
   "metadata": {},
   "outputs": [
    {
     "output_type": "stream",
     "name": "stdout",
     "text": [
      "service/etcd-service unchanged\n",
      "pod/etcd unchanged\n",
      "NAME           TYPE        CLUSTER-IP     EXTERNAL-IP   PORT(S)    AGE\n",
      "etcd-service   ClusterIP   10.0.216.198   <none>        2379/TCP   42s\n",
      "NAME   READY   STATUS    RESTARTS   AGE   IP            NODE                                 NOMINATED NODE   READINESS GATES\n",
      "etcd   1/1     Running   0          43s   10.244.12.2   aks-cpuworkers-40607851-vmss000000   <none>           <none>\n"
     ]
    }
   ],
   "source": [
    "!kubectl apply -f kube/etcd.yaml\n",
    "# verify service and pods scheduled on CPU nodes\n",
    "!kubectl get svc -n elastic-job\n",
    "!kubectl get pods -n elastic-job -o wide\n"
   ]
  },
  {
   "source": [
    "## Deploy TorchElastic Operator\n",
    "Details and Kubernetes manifests descibed at https://github.com/pytorch/elastic/tree/master/kubernetes, we have included manifests in the repo for simplicity:\n"
   ],
   "cell_type": "markdown",
   "metadata": {}
  },
  {
   "cell_type": "code",
   "execution_count": 5,
   "metadata": {},
   "outputs": [
    {
     "output_type": "stream",
     "name": "stdout",
     "text": [
      "Warning: resource namespaces/elastic-job is missing the kubectl.kubernetes.io/last-applied-configuration annotation which is required by kubectl apply. kubectl apply should only be used on resources created declaratively by either kubectl create --save-config or kubectl apply. The missing annotation will be patched automatically.\n",
      "namespace/elastic-job configured\n",
      "customresourcedefinition.apiextensions.k8s.io/elasticjobs.elastic.pytorch.org created\n",
      "role.rbac.authorization.k8s.io/leader-election-role created\n",
      "clusterrole.rbac.authorization.k8s.io/elastic-job-k8s-controller-role created\n",
      "rolebinding.rbac.authorization.k8s.io/leader-election-rolebinding created\n",
      "clusterrolebinding.rbac.authorization.k8s.io/elastic-job-k8s-controller-rolebinding created\n",
      "deployment.apps/elastic-job-k8s-controller created\n"
     ]
    }
   ],
   "source": [
    "!kubectl apply -k kube/config/default"
   ]
  },
  {
   "source": [
    "# Verify that the ElasticJob custom resource is installed\n",
    "!kubectl get crd\n"
   ],
   "cell_type": "code",
   "metadata": {},
   "execution_count": 6,
   "outputs": [
    {
     "output_type": "stream",
     "name": "stdout",
     "text": [
      "NAME                              CREATED AT\nelasticjobs.elastic.pytorch.org   2021-05-24T00:48:59Z\n"
     ]
    }
   ]
  },
  {
   "source": [
    "## Prepare ElasticJob Deployment\n",
    "### Training Docker imagen\n",
    "Take a look at `Dockerfile` for our deployment, it is in [examples/Dockerfile](examples/Dockerfile).\n",
    "It is based on `pytorch` gpu enabled image and has both training script `main.py` and dataset for training and testing as part of it.\n",
    "In production dataset should reside in blob and deployment should point to it.\n",
    "\n",
    "Keep a not theta entrypoint in the container is launch\n",
    "```\n",
    "ENTRYPOINT [\"python\", \"-m\", \"torch.distributed.run\"]\n",
    "```\n",
    "For more details refer to https://github.com/pytorch/elastic/tree/master/examples\n",
    "\n",
    "## Kubernetes Job config\n",
    "We have updated Kubernetes `ElasticJob` manifest [kube/imagenet.yaml](kube/imagenet.yaml) to make sure it could run on Spot nodes and mount Azure Blob for saving checkpoints.\n",
    "\n",
    "- Note we are deploying Custom Kubernetes Resource `ElasticJob` that Torch Elastic operator will process and orchestrate\n",
    "- We pointed `rdzvEndpoint` to previously deployed ETCD service \n",
    "- Note min/max number of replicas that directs training job on number of desired workers, if you increase **number of workers** you would see that each worker is performing training on smaller subset of data and overall job completes much faster\n",
    "\n",
    "```yaml\n",
    "  apiVersion: elastic.pytorch.org/v1alpha1\n",
    "  kind: ElasticJob\n",
    "  metadata:\n",
    "    name: imagenet\n",
    "    namespace: elastic-job\n",
    "  spec:\n",
    "    # Use \"etcd-service:2379\" if you already apply etcd.yaml\n",
    "    rdzvEndpoint: \"etcd-service:2379\"\n",
    "    minReplicas: 1\n",
    "    maxReplicas: 3    \n",
    "    replicaSpecs:\n",
    "      Worker:\n",
    "        replicas: 3\n",
    "```\n",
    "\n",
    "- Updated `kube/imagenet.yaml` with **tolerations** and **nodeSelector** to run training on Spot VM nodepool\n",
    "\n",
    "```yaml\n",
    "    containers:\n",
    "    - name: elasticjob-worker\n",
    "      image: torchelastic/examples:0.2.0\n",
    "      imagePullPolicy: Always\n",
    "       ..\n",
    "    nodeSelector:\n",
    "       kubernetes.azure.com/scalesetpriority: spot\n",
    "    tolerations:\n",
    "    - key: \"kubernetes.azure.com/scalesetpriority\"\n",
    "      operator: \"Equal\"\n",
    "      value: \"spot\"\n",
    "      effect: \"NoSchedule\"       \n",
    "```\n",
    "\n",
    "- Updated `kube/imagenet.yaml` with **volumes** and **volumemount** to provide storage to the training job to save checkpoint to the path set in arguments `--checkpoint-file`\n",
    "\n",
    "```yaml\n",
    " volumes:  \n",
    " - name: trainingdata\n",
    "   persistentVolumeClaim:\n",
    "      claimName: pvc-blob\n",
    " containers:\n",
    "  ...\n",
    "  args:\n",
    "   - \"--nproc_per_node=1\"\n",
    "   - \"/workspace/examples/imagenet/main.py\"\n",
    "   - \"--arch=resnet18\"\n",
    "   - \"--epochs=3\"\n",
    "   - \"--batch-size=64\"\n",
    "   - \"--workers=0\"\n",
    "   - \"/workspace/data/tiny-imagenet-200\"\n",
    "   - \"--checkpoint-file=/mnt/blob/data/checkpoint.pth.tar\"\n",
    "  volumeMounts:\n",
    "  - name: trainingdata\n",
    "    mountPath: \"/mnt/blob/data\"         \n",
    "```\n",
    "\n",
    "- Note in the arguments `--nproc_per_node` directs on how many local pytorch workers could run per node (typically is equal to number of CUDA devices), '--workers` is number of workers in Pytorch Dataloader \n"
   ],
   "cell_type": "markdown",
   "metadata": {}
  },
  {
   "cell_type": "code",
   "execution_count": 8,
   "metadata": {},
   "outputs": [
    {
     "output_type": "stream",
     "name": "stdout",
     "text": [
      "elasticjob.elastic.pytorch.org/imagenet configured\n",
      "Name:         imagenet\n",
      "Namespace:    elastic-job\n",
      "Labels:       <none>\n",
      "Annotations:  <none>\n",
      "API Version:  elastic.pytorch.org/v1alpha1\n",
      "Kind:         ElasticJob\n",
      "Metadata:\n",
      "  Creation Timestamp:  2021-05-24T02:53:56Z\n",
      "  Generation:          3\n",
      "  Managed Fields:\n",
      "    API Version:  elastic.pytorch.org/v1alpha1\n",
      "    Fields Type:  FieldsV1\n",
      "    fieldsV1:\n",
      "      f:spec:\n",
      "        f:RunPolicy:\n",
      "          .:\n",
      "          f:cleanPodPolicy:\n",
      "        f:replicaSpecs:\n",
      "          f:Worker:\n",
      "            f:template:\n",
      "              f:metadata:\n",
      "                .:\n",
      "                f:creationTimestamp:\n",
      "      f:status:\n",
      "        .:\n",
      "        f:conditions:\n",
      "        f:replicaStatuses:\n",
      "          .:\n",
      "          f:Worker:\n",
      "    Manager:      manager\n",
      "    Operation:    Update\n",
      "    Time:         2021-05-24T02:53:57Z\n",
      "    API Version:  elastic.pytorch.org/v1alpha1\n",
      "    Fields Type:  FieldsV1\n",
      "    fieldsV1:\n",
      "      f:metadata:\n",
      "        f:annotations:\n",
      "          .:\n",
      "          f:kubectl.kubernetes.io/last-applied-configuration:\n",
      "      f:spec:\n",
      "        .:\n",
      "        f:maxReplicas:\n",
      "        f:minReplicas:\n",
      "        f:rdzvEndpoint:\n",
      "        f:replicaSpecs:\n",
      "          .:\n",
      "          f:Worker:\n",
      "            .:\n",
      "            f:replicas:\n",
      "            f:restartPolicy:\n",
      "            f:template:\n",
      "              .:\n",
      "              f:apiVersion:\n",
      "              f:kind:\n",
      "              f:spec:\n",
      "                .:\n",
      "                f:containers:\n",
      "                f:nodeSelector:\n",
      "                  .:\n",
      "                  f:kubernetes.azure.com/scalesetpriority:\n",
      "                f:tolerations:\n",
      "                f:volumes:\n",
      "    Manager:         kubectl-client-side-apply\n",
      "    Operation:       Update\n",
      "    Time:            2021-05-24T02:55:04Z\n",
      "  Resource Version:  73454\n",
      "  Self Link:         /apis/elastic.pytorch.org/v1alpha1/namespaces/elastic-job/elasticjobs/imagenet\n",
      "  UID:               46692bc0-c3c9-4530-a875-8db7fd98624c\n",
      "Spec:\n",
      "  Run Policy:\n",
      "    Clean Pod Policy:  None\n",
      "  Max Replicas:        2\n",
      "  Min Replicas:        1\n",
      "  Rdzv Endpoint:       etcd-service:2379\n",
      "  Replica Specs:\n",
      "    Worker:\n",
      "      Replicas:        2\n",
      "      Restart Policy:  ExitCode\n",
      "      Template:\n",
      "        API Version:  v1\n",
      "        Kind:         Pod\n",
      "        Metadata:\n",
      "          Creation Timestamp:  <nil>\n",
      "        Spec:\n",
      "          Containers:\n",
      "            Args:\n",
      "              --nproc_per_node=1\n",
      "              /workspace/examples/imagenet/main.py\n",
      "              --arch=resnet18\n",
      "              --epochs=3\n",
      "              --batch-size=64\n",
      "              --workers=0\n",
      "              /workspace/data/tiny-imagenet-200\n",
      "              --checkpoint-file=/mnt/blob/data/checkpoint.pth.tar\n",
      "            Image:              torchelastic/examples:0.2.0\n",
      "            Image Pull Policy:  Always\n",
      "            Name:               elasticjob-worker\n",
      "            Resources:\n",
      "              Limits:\n",
      "                nvidia.com/gpu:  1\n",
      "            Volume Mounts:\n",
      "              Mount Path:  /mnt/blob/data\n",
      "              Name:        trainingdata\n",
      "          Node Selector:\n",
      "            kubernetes.azure.com/scalesetpriority:  spot\n",
      "          Tolerations:\n",
      "            Effect:    NoSchedule\n",
      "            Key:       kubernetes.azure.com/scalesetpriority\n",
      "            Operator:  Equal\n",
      "            Value:     spot\n",
      "          Volumes:\n",
      "            Name:  trainingdata\n",
      "            Persistent Volume Claim:\n",
      "              Claim Name:  pvc-blob\n",
      "Status:\n",
      "  Conditions:\n",
      "    Last Transition Time:  2021-05-24T02:53:56Z\n",
      "    Last Update Time:      2021-05-24T02:53:56Z\n",
      "    Message:               ElasticJob imagenet is running.\n",
      "    Reason:                ElasticJobRunning\n",
      "    Status:                True\n",
      "    Type:                  Running\n",
      "  Replica Statuses:\n",
      "    Worker:\n",
      "Events:\n",
      "  Type    Reason                   Age   From                    Message\n",
      "  ----    ------                   ----  ----                    -------\n",
      "  Normal  SuccessfulCreatePod      67s   elastic-job-controller  Created pod: imagenet-worker-0\n",
      "  Normal  SuccessfulCreatePod      67s   elastic-job-controller  Created pod: imagenet-worker-1\n",
      "  Normal  SuccessfulCreateService  67s   elastic-job-controller  Created service: imagenet-worker-0\n",
      "  Normal  SuccessfulCreateService  67s   elastic-job-controller  Created service: imagenet-worker-1\n"
     ]
    }
   ],
   "source": [
    "# Run the deployment\n",
    "!kubectl apply -f kube/imagenet.yaml\n",
    "# Verify ElasticJob\n",
    "!kubectl describe elasticjob -n elastic-job"
   ]
  },
  {
   "cell_type": "code",
   "execution_count": 10,
   "metadata": {},
   "outputs": [
    {
     "output_type": "execute_result",
     "data": {
      "text/plain": [
       "['NAME                                          READY   STATUS    RESTARTS   AGE     IP            NODE                                 NOMINATED NODE   READINESS GATES',\n",
       " 'elastic-job-k8s-controller-5b9bc6b79c-xvdsw   1/1     Running   0          129m    10.244.13.2   aks-cpuworkers-40607851-vmss000003   <none>           <none>',\n",
       " 'etcd                                          1/1     Running   0          134m    10.244.12.2   aks-cpuworkers-40607851-vmss000000   <none>           <none>',\n",
       " 'imagenet-worker-0                             1/1     Running   0          4m27s   10.244.7.3    aks-spotgpu-40607851-vmss000001      <none>           <none>',\n",
       " 'imagenet-worker-1                             1/1     Running   0          4m27s   10.244.7.2    aks-spotgpu-40607851-vmss000001      <none>           <none>']"
      ]
     },
     "metadata": {},
     "execution_count": 10
    }
   ],
   "source": [
    "# Verify worker pods run in the SpotVM Nodes\n",
    "!!kubectl get pods  -n elastic-job -o wide"
   ]
  },
  {
   "source": [
    "## Verify Training Logs\n",
    "Pods might stay in 'ContainerCreating' state  for a few minutes, while pulling the image ( image size is quite big and dockerhub is rate limiting). To optimize you could build container image and push it in ACR\n",
    "\n",
    "Get logs from workers and note how both workers joined the Rendezvous worker group with the same version:\n",
    "- imagenet-worker-0 pod `rendezvous version 1 as rank 0`\n",
    "- imagenet-worker-1 pod `rendezvous version 1 as rank 1`"
   ],
   "cell_type": "markdown",
   "metadata": {}
  },
  {
   "cell_type": "code",
   "execution_count": 26,
   "metadata": {},
   "outputs": [
    {
     "output_type": "stream",
     "name": "stdout",
     "text": [
      "[INFO] 2021-05-24 04:51:49,220 launch: Running torchelastic.distributed.launch with args: ['/opt/conda/lib/python3.7/site-packages/torchelastic/distributed/launch.py', '--rdzv_backend=etcd', '--rdzv_endpoint=etcd-service:2379', '--rdzv_id=imagenet', '--nnodes=1:3', '--nproc_per_node=1', '/workspace/examples/imagenet/main.py', '--arch=resnet18', '--epochs=3', '--batch-size=64', '--workers=0', '/workspace/data/tiny-imagenet-200', '--checkpoint-file=/mnt/blob/data/checkpoint.pth.tar']\nINFO 2021-05-24 04:51:49,228 Etcd machines: ['http://0.0.0.0:2379']\n[INFO] 2021-05-24 04:51:49,238 launch: Using nproc_per_node=1.\n[INFO] 2021-05-24 04:51:50,064 api: [default] starting workers for function: wrapper_fn\n[INFO] 2021-05-24 04:51:50,064 api: [default] Rendezvous'ing worker group\nINFO 2021-05-24 04:51:50,064 Attempting to join next rendezvous\nINFO 2021-05-24 04:51:50,068 Observed existing rendezvous state: {'status': 'joinable', 'version': '6', 'participants': [0, 1]}\nINFO 2021-05-24 04:51:50,118 Joined rendezvous version 6 as rank 2. Full state: {'status': 'frozen', 'version': '6', 'participants': [0, 1, 2], 'keep_alives': []}\nINFO 2021-05-24 04:51:50,118 Waiting for remaining peers.\nINFO 2021-05-24 04:51:50,120 All peers arrived. Confirming membership.\nINFO 2021-05-24 04:51:50,158 Waiting for confirmations from all peers.\nINFO 2021-05-24 04:51:50,215 Rendezvous version 6 is complete. Final state: {'status': 'final', 'version': '6', 'participants': [0, 1, 2], 'keep_alives': ['/torchelastic/p2p/run_imagenet/rdzv/v_6/rank_2', '/torchelastic/p2p/run_imagenet/rdzv/v_6/rank_0', '/torchelastic/p2p/run_imagenet/rdzv/v_6/rank_1'], 'num_workers_waiting': 0}\nINFO 2021-05-24 04:51:50,215 Creating EtcdStore as the c10d::Store implementation\n[INFO] 2021-05-24 04:51:50,228 api: [default] Rendezvous complete for workers.\nResult:\n\trestart_count=0\n\tgroup_rank=2\n\tgroup_world_size=3\n\trank stride=1\n\tassigned global_ranks=[2]\n\tmaster_addr=imagenet-worker-2\n\tmaster_port=38331\n\n[INFO] 2021-05-24 04:51:50,228 api: [default] Starting worker group\n=> set cuda device = 0\n=> creating model: resnet18\n=> no workers have checkpoints, starting from epoch 0\n=> start_epoch: 0, best_acc1: 0\nEpoch: [0][  0/521]\tTime  5.703 ( 5.703)\tData  1.943 ( 1.943)\tLoss 7.1039e+00 (7.1039e+00)\tAcc@1   0.00 (  0.00)\tAcc@5   0.00 (  0.00)\nEpoch: [0][ 10/521]\tTime  2.208 ( 2.708)\tData  1.367 ( 1.670)\tLoss 5.7430e+00 (6.2205e+00)\tAcc@1   0.00 (  0.28)\tAcc@5   4.69 (  1.70)\nEpoch: [0][ 20/521]\tTime  2.837 ( 2.656)\tData  1.856 ( 1.681)\tLoss 5.5105e+00 (5.9313e+00)\tAcc@1   0.00 (  0.67)\tAcc@5   7.81 (  3.42)\nEpoch: [0][ 30/521]\tTime  2.475 ( 2.596)\tData  1.553 ( 1.678)\tLoss 5.4283e+00 (5.7947e+00)\tAcc@1   0.00 (  0.76)\tAcc@5   1.56 (  3.58)\nEpoch: [0][ 40/521]\tTime  2.539 ( 2.517)\tData  1.685 ( 1.621)\tLoss 5.3507e+00 (5.6868e+00)\tAcc@1   3.12 (  1.07)\tAcc@5  10.94 (  4.65)\nEpoch: [0][ 50/521]\tTime  2.622 ( 2.532)\tData  1.755 ( 1.651)\tLoss 5.0941e+00 (5.5985e+00)\tAcc@1   3.12 (  1.32)\tAcc@5   9.38 (  5.42)\nEpoch: [0][ 60/521]\tTime  2.630 ( 2.516)\tData  1.769 ( 1.649)\tLoss 5.0478e+00 (5.5356e+00)\tAcc@1   4.69 (  1.43)\tAcc@5   6.25 (  5.79)\nEpoch: [0][ 70/521]\tTime  2.232 ( 2.505)\tData  1.459 ( 1.641)\tLoss 5.1923e+00 (5.4848e+00)\tAcc@1   3.12 (  1.45)\tAcc@5   9.38 (  6.18)\nEpoch: [0][ 80/521]\tTime  2.625 ( 2.504)\tData  1.688 ( 1.647)\tLoss 5.1132e+00 (5.4257e+00)\tAcc@1   1.56 (  1.58)\tAcc@5  10.94 (  6.60)\nEpoch: [0][ 90/521]\tTime  2.403 ( 2.479)\tData  1.685 ( 1.630)\tLoss 5.0954e+00 (5.3877e+00)\tAcc@1   1.56 (  1.72)\tAcc@5  10.94 (  7.09)\nEpoch: [0][100/521]\tTime  2.489 ( 2.477)\tData  1.794 ( 1.639)\tLoss 5.0615e+00 (5.3593e+00)\tAcc@1   0.00 (  1.78)\tAcc@5   6.25 (  7.38)\nEpoch: [0][110/521]\tTime  2.228 ( 2.458)\tData  1.501 ( 1.627)\tLoss 5.0036e+00 (5.3301e+00)\tAcc@1   3.12 (  1.89)\tAcc@5  12.50 (  7.47)\nEpoch: [0][120/521]\tTime  2.240 ( 2.433)\tData  1.390 ( 1.607)\tLoss 5.1950e+00 (5.3025e+00)\tAcc@1   3.12 (  1.95)\tAcc@5   7.81 (  7.80)\nEpoch: [0][130/521]\tTime  2.929 ( 2.423)\tData  1.983 ( 1.597)\tLoss 4.7747e+00 (5.2791e+00)\tAcc@1   4.69 (  2.08)\tAcc@5  12.50 (  8.13)\nEpoch: [0][140/521]\tTime  2.451 ( 2.421)\tData  1.674 ( 1.593)\tLoss 4.9314e+00 (5.2538e+00)\tAcc@1   6.25 (  2.28)\tAcc@5  12.50 (  8.40)\nEpoch: [0][150/521]\tTime  2.678 ( 2.412)\tData  1.669 ( 1.582)\tLoss 5.0158e+00 (5.2305e+00)\tAcc@1   1.56 (  2.38)\tAcc@5   9.38 (  8.81)\nEpoch: [0][160/521]\tTime  2.359 ( 2.400)\tData  1.598 ( 1.575)\tLoss 5.1346e+00 (5.2120e+00)\tAcc@1   3.12 (  2.52)\tAcc@5   9.38 (  9.15)\nEpoch: [0][170/521]\tTime  2.733 ( 2.398)\tData  1.800 ( 1.580)\tLoss 4.8001e+00 (5.1922e+00)\tAcc@1   3.12 (  2.54)\tAcc@5  20.31 (  9.46)\nEpoch: [0][180/521]\tTime  2.435 ( 2.396)\tData  1.531 ( 1.580)\tLoss 5.0647e+00 (5.1747e+00)\tAcc@1   3.12 (  2.59)\tAcc@5   9.38 (  9.76)\nEpoch: [0][190/521]\tTime  2.344 ( 2.395)\tData  1.596 ( 1.582)\tLoss 4.7305e+00 (5.1606e+00)\tAcc@1   7.81 (  2.64)\tAcc@5  17.19 ( 10.00)\nEpoch: [0][200/521]\tTime  2.440 ( 2.401)\tData  1.777 ( 1.586)\tLoss 5.0082e+00 (5.1444e+00)\tAcc@1   1.56 (  2.74)\tAcc@5   9.38 ( 10.34)\nEpoch: [0][210/521]\tTime  2.349 ( 2.399)\tData  1.621 ( 1.586)\tLoss 4.5730e+00 (5.1258e+00)\tAcc@1   6.25 (  2.81)\tAcc@5  20.31 ( 10.65)\nEpoch: [0][220/521]\tTime  2.424 ( 2.394)\tData  1.628 ( 1.584)\tLoss 4.7222e+00 (5.1107e+00)\tAcc@1   6.25 (  2.88)\tAcc@5  23.44 ( 10.90)\nEpoch: [0][230/521]\tTime  1.955 ( 2.392)\tData  1.310 ( 1.586)\tLoss 4.8481e+00 (5.0982e+00)\tAcc@1   1.56 (  2.92)\tAcc@5   9.38 ( 11.05)\nEpoch: [0][240/521]\tTime  1.882 ( 2.389)\tData  1.032 ( 1.583)\tLoss 4.7463e+00 (5.0848e+00)\tAcc@1   3.12 (  3.00)\tAcc@5  15.62 ( 11.27)\nEpoch: [0][250/521]\tTime  2.445 ( 2.389)\tData  1.543 ( 1.580)\tLoss 4.6234e+00 (5.0718e+00)\tAcc@1   6.25 (  3.08)\tAcc@5  17.19 ( 11.50)\nEpoch: [0][260/521]\tTime  2.482 ( 2.386)\tData  1.748 ( 1.575)\tLoss 4.8520e+00 (5.0631e+00)\tAcc@1   4.69 (  3.12)\tAcc@5  15.62 ( 11.61)\n"
     ]
    }
   ],
   "source": [
    "!kubectl logs imagenet-worker-0 -n elastic-job"
   ]
  },
  {
   "cell_type": "code",
   "execution_count": 27,
   "metadata": {},
   "outputs": [
    {
     "output_type": "stream",
     "name": "stdout",
     "text": [
      "[INFO] 2021-05-24 04:51:48,998 launch: Running torchelastic.distributed.launch with args: ['/opt/conda/lib/python3.7/site-packages/torchelastic/distributed/launch.py', '--rdzv_backend=etcd', '--rdzv_endpoint=etcd-service:2379', '--rdzv_id=imagenet', '--nnodes=1:3', '--nproc_per_node=1', '/workspace/examples/imagenet/main.py', '--arch=resnet18', '--epochs=3', '--batch-size=64', '--workers=0', '/workspace/data/tiny-imagenet-200', '--checkpoint-file=/mnt/blob/data/checkpoint.pth.tar']\n",
      "INFO 2021-05-24 04:51:49,005 Etcd machines: ['http://0.0.0.0:2379']\n",
      "[INFO] 2021-05-24 04:51:49,031 launch: Using nproc_per_node=1.\n",
      "[INFO] 2021-05-24 04:51:49,817 api: [default] starting workers for function: wrapper_fn\n",
      "[INFO] 2021-05-24 04:51:49,817 api: [default] Rendezvous'ing worker group\n",
      "INFO 2021-05-24 04:51:49,817 Attempting to join next rendezvous\n",
      "INFO 2021-05-24 04:51:49,821 Observed existing rendezvous state: {'status': 'joinable', 'version': '6', 'participants': [0]}\n",
      "INFO 2021-05-24 04:51:49,868 Joined rendezvous version 6 as rank 1. Full state: {'status': 'joinable', 'version': '6', 'participants': [0, 1]}\n",
      "INFO 2021-05-24 04:51:49,868 Waiting for remaining peers.\n",
      "INFO 2021-05-24 04:51:50,120 All peers arrived. Confirming membership.\n",
      "INFO 2021-05-24 04:51:50,215 Waiting for confirmations from all peers.\n",
      "INFO 2021-05-24 04:51:50,216 Rendezvous version 6 is complete. Final state: {'status': 'final', 'version': '6', 'participants': [0, 1, 2], 'keep_alives': ['/torchelastic/p2p/run_imagenet/rdzv/v_6/rank_2', '/torchelastic/p2p/run_imagenet/rdzv/v_6/rank_0', '/torchelastic/p2p/run_imagenet/rdzv/v_6/rank_1'], 'num_workers_waiting': 0}\n",
      "INFO 2021-05-24 04:51:50,216 Creating EtcdStore as the c10d::Store implementation\n",
      "[INFO] 2021-05-24 04:51:50,228 api: [default] Rendezvous complete for workers.\n",
      "Result:\n",
      "\trestart_count=0\n",
      "\tgroup_rank=1\n",
      "\tgroup_world_size=3\n",
      "\trank stride=1\n",
      "\tassigned global_ranks=[1]\n",
      "\tmaster_addr=imagenet-worker-2\n",
      "\tmaster_port=38331\n",
      "\n",
      "[INFO] 2021-05-24 04:51:50,228 api: [default] Starting worker group\n",
      "=> set cuda device = 0\n",
      "=> creating model: resnet18\n",
      "=> no workers have checkpoints, starting from epoch 0\n",
      "=> start_epoch: 0, best_acc1: 0\n",
      "Epoch: [0][  0/521]\tTime  5.703 ( 5.703)\tData  1.952 ( 1.952)\tLoss 7.0743e+00 (7.0743e+00)\tAcc@1   0.00 (  0.00)\tAcc@5   0.00 (  0.00)\n",
      "Epoch: [0][ 10/521]\tTime  2.208 ( 2.708)\tData  1.502 ( 1.612)\tLoss 5.8020e+00 (6.1672e+00)\tAcc@1   1.56 (  1.28)\tAcc@5   6.25 (  3.27)\n",
      "Epoch: [0][ 20/521]\tTime  2.833 ( 2.655)\tData  2.107 ( 1.702)\tLoss 5.4997e+00 (5.8883e+00)\tAcc@1   1.56 (  1.49)\tAcc@5   7.81 (  4.84)\n",
      "Epoch: [0][ 30/521]\tTime  2.463 ( 2.596)\tData  1.743 ( 1.698)\tLoss 5.3720e+00 (5.7840e+00)\tAcc@1   1.56 (  1.31)\tAcc@5   9.38 (  4.99)\n",
      "Epoch: [0][ 40/521]\tTime  2.538 ( 2.517)\tData  1.746 ( 1.653)\tLoss 5.3710e+00 (5.6958e+00)\tAcc@1   0.00 (  1.49)\tAcc@5   7.81 (  5.14)\n",
      "Epoch: [0][ 50/521]\tTime  2.627 ( 2.532)\tData  1.876 ( 1.675)\tLoss 5.3979e+00 (5.6155e+00)\tAcc@1   1.56 (  1.62)\tAcc@5   3.12 (  5.61)\n",
      "Epoch: [0][ 60/521]\tTime  2.630 ( 2.516)\tData  1.905 ( 1.668)\tLoss 5.3933e+00 (5.5516e+00)\tAcc@1   0.00 (  1.43)\tAcc@5   3.12 (  5.81)\n",
      "Epoch: [0][ 70/521]\tTime  2.240 ( 2.505)\tData  1.493 ( 1.668)\tLoss 5.2172e+00 (5.5034e+00)\tAcc@1   0.00 (  1.56)\tAcc@5   3.12 (  5.88)\n",
      "Epoch: [0][ 80/521]\tTime  2.624 ( 2.504)\tData  1.911 ( 1.667)\tLoss 4.9143e+00 (5.4473e+00)\tAcc@1   0.00 (  1.70)\tAcc@5   6.25 (  6.33)\n",
      "Epoch: [0][ 90/521]\tTime  2.411 ( 2.479)\tData  1.412 ( 1.653)\tLoss 5.1238e+00 (5.4148e+00)\tAcc@1   0.00 (  1.70)\tAcc@5   6.25 (  6.64)\n",
      "Epoch: [0][100/521]\tTime  2.497 ( 2.477)\tData  1.779 ( 1.656)\tLoss 5.1306e+00 (5.3781e+00)\tAcc@1   0.00 (  1.70)\tAcc@5  10.94 (  6.90)\n",
      "Epoch: [0][110/521]\tTime  2.226 ( 2.458)\tData  1.512 ( 1.645)\tLoss 5.0299e+00 (5.3516e+00)\tAcc@1   1.56 (  1.73)\tAcc@5  10.94 (  7.18)\n",
      "Epoch: [0][120/521]\tTime  2.245 ( 2.433)\tData  1.504 ( 1.625)\tLoss 4.9397e+00 (5.3228e+00)\tAcc@1   3.12 (  1.85)\tAcc@5  10.94 (  7.48)\n",
      "Epoch: [0][130/521]\tTime  2.926 ( 2.423)\tData  2.174 ( 1.619)\tLoss 4.9414e+00 (5.3004e+00)\tAcc@1   3.12 (  1.91)\tAcc@5  12.50 (  7.76)\n",
      "Epoch: [0][140/521]\tTime  2.458 ( 2.421)\tData  1.691 ( 1.620)\tLoss 4.8009e+00 (5.2715e+00)\tAcc@1   3.12 (  2.07)\tAcc@5  17.19 (  8.16)\n",
      "Epoch: [0][150/521]\tTime  2.671 ( 2.412)\tData  1.967 ( 1.618)\tLoss 4.9071e+00 (5.2488e+00)\tAcc@1   6.25 (  2.12)\tAcc@5  14.06 (  8.53)\n",
      "Epoch: [0][160/521]\tTime  2.358 ( 2.400)\tData  1.606 ( 1.604)\tLoss 5.0844e+00 (5.2236e+00)\tAcc@1   3.12 (  2.23)\tAcc@5  14.06 (  8.96)\n",
      "Epoch: [0][170/521]\tTime  2.730 ( 2.398)\tData  2.097 ( 1.605)\tLoss 4.7549e+00 (5.2076e+00)\tAcc@1  10.94 (  2.38)\tAcc@5  14.06 (  9.27)\n",
      "Epoch: [0][180/521]\tTime  2.428 ( 2.396)\tData  1.733 ( 1.606)\tLoss 4.8399e+00 (5.1901e+00)\tAcc@1   1.56 (  2.43)\tAcc@5  20.31 (  9.55)\n",
      "Epoch: [0][190/521]\tTime  2.338 ( 2.395)\tData  1.555 ( 1.605)\tLoss 4.9641e+00 (5.1766e+00)\tAcc@1   4.69 (  2.51)\tAcc@5  10.94 (  9.74)\n",
      "Epoch: [0][200/521]\tTime  2.429 ( 2.400)\tData  1.577 ( 1.613)\tLoss 4.9488e+00 (5.1656e+00)\tAcc@1   1.56 (  2.56)\tAcc@5  17.19 (  9.83)\n",
      "Epoch: [0][210/521]\tTime  2.337 ( 2.399)\tData  1.632 ( 1.613)\tLoss 4.9062e+00 (5.1527e+00)\tAcc@1   4.69 (  2.61)\tAcc@5   9.38 ( 10.03)\n",
      "Epoch: [0][220/521]\tTime  2.424 ( 2.394)\tData  1.728 ( 1.609)\tLoss 4.8262e+00 (5.1388e+00)\tAcc@1   4.69 (  2.71)\tAcc@5  17.19 ( 10.20)\n",
      "Epoch: [0][230/521]\tTime  1.955 ( 2.392)\tData  0.936 ( 1.603)\tLoss 4.7340e+00 (5.1230e+00)\tAcc@1   6.25 (  2.77)\tAcc@5  17.19 ( 10.41)\n",
      "Epoch: [0][240/521]\tTime  1.877 ( 2.389)\tData  1.172 ( 1.602)\tLoss 4.8076e+00 (5.1113e+00)\tAcc@1  10.94 (  2.86)\tAcc@5  17.19 ( 10.64)\n",
      "Epoch: [0][250/521]\tTime  2.445 ( 2.389)\tData  1.741 ( 1.604)\tLoss 4.8932e+00 (5.1001e+00)\tAcc@1   4.69 (  2.89)\tAcc@5  10.94 ( 10.81)\n",
      "Epoch: [0][260/521]\tTime  2.485 ( 2.386)\tData  1.359 ( 1.600)\tLoss 4.7603e+00 (5.0853e+00)\tAcc@1   3.12 (  2.95)\tAcc@5  18.75 ( 11.09)\n",
      "Epoch: [0][270/521]\tTime  2.103 ( 2.381)\tData  1.400 ( 1.596)\tLoss 4.8434e+00 (5.0749e+00)\tAcc@1   1.56 (  3.02)\tAcc@5   9.38 ( 11.25)\n"
     ]
    }
   ],
   "source": [
    "!kubectl logs imagenet-worker-1 -n elastic-job"
   ]
  },
  {
   "source": [
    "## Checkpoint saved and restored\n",
    "Once Epoch training is completed you would see that training script saved the checkpoint in the Azure Blob storage. It takes about 10 min on  `Standard_NC12` node to run one Epoch iteration"
   ],
   "cell_type": "markdown",
   "metadata": {}
  },
  {
   "cell_type": "code",
   "execution_count": 23,
   "metadata": {},
   "outputs": [
    {
     "output_type": "stream",
     "name": "stdout",
     "text": [
      "=> creating model: resnet18\n",
      "=> loading checkpoint file: /mnt/blob/data/checkpoint.pth.tar\n",
      "=> loaded checkpoint file: /mnt/blob/data/checkpoint.pth.tar\n",
      "=> using checkpoint from rank: 1, max_epoch: 1\n",
      "=> checkpoint broadcast size is: 93588276\n",
      "=> done broadcasting checkpoint\n",
      "=> done restoring from previous checkpoint\n",
      "=> start_epoch: 2, best_acc1: 1.1100000143051147\n",
      "Epoch: [2][  0/782]\tTime  4.633 ( 4.633)\tData  1.505 ( 1.505)\tLoss 3.6480e+00 (3.6480e+00)\tAcc@1  18.75 ( 18.75)\tAcc@5  45.31 ( 45.31)\n",
      "Epoch: [2][ 10/782]\tTime  1.747 ( 2.258)\tData  1.363 ( 1.524)\tLoss 3.9434e+00 (3.8631e+00)\tAcc@1  14.06 ( 15.48)\tAcc@5  32.81 ( 35.51)\n",
      "=> loading checkpoint file: /mnt/blob/data/checkpoint.pth.tar\n",
      "=> loaded checkpoint file: /mnt/blob/data/checkpoint.pth.tar\n",
      "=> using checkpoint from rank: 1, max_epoch: 1\n",
      "=> checkpoint broadcast size is: 93588276\n",
      "/opt/conda/conda-bld/pytorch_1587428398394/work/torch/csrc/utils/tensor_numpy.cpp:141: UserWarning: The given NumPy array is not writeable, and PyTorch does not support non-writeable tensors. This means you can write to the underlying (supposedly non-writeable) NumPy array using the tensor. You may want to copy the array to protect its data or make it writeable before converting it to a tensor. This type of warning will be suppressed for the rest of this program.\n",
      "=> done broadcasting checkpoint\n",
      "=> done restoring from previous checkpoint\n",
      "=> start_epoch: 2, best_acc1: 1.1100000143051147\n",
      "Epoch: [2][  0/782]\tTime  4.644 ( 4.644)\tData  1.422 ( 1.422)\tLoss 3.7847e+00 (3.7847e+00)\tAcc@1  17.19 ( 17.19)\tAcc@5  45.31 ( 45.31)\n",
      "Epoch: [2][ 10/782]\tTime  1.744 ( 2.257)\tData  0.862 ( 1.471)\tLoss 3.8525e+00 (3.9953e+00)\tAcc@1  10.94 ( 12.64)\tAcc@5  32.81 ( 34.52)\n",
      "Epoch: [2][ 20/782]\tTime  2.070 ( 2.035)\tData  1.264 ( 1.423)\tLoss 3.9437e+00 (3.9244e+00)\tAcc@1  17.19 ( 15.77)\tAcc@5  46.88 ( 35.86)\n",
      "Epoch: [2][ 20/782]\tTime  2.066 ( 2.035)\tData  1.668 ( 1.417)\tLoss 3.8652e+00 (3.9719e+00)\tAcc@1  14.06 ( 12.95)\tAcc@5  39.06 ( 34.52)\n",
      "^C\n"
     ]
    }
   ],
   "source": [
    " # Stream logs from all workers until we see checkpoint is saved, then stop the Cell execution!!\n",
    " !kubectl logs -ljob-name=imagenet -n elastic-job -f"
   ]
  },
  {
   "cell_type": "code",
   "execution_count": 29,
   "metadata": {},
   "outputs": [
    {
     "output_type": "stream",
     "name": "stdout",
     "text": [
      "checkpoint.pth.tar\nmodel_best.pth.tar\n"
     ]
    }
   ],
   "source": [
    "# Verify Checkpoint and model file created by execing to pod \n",
    "!kubectl exec  -n elastic-job imagenet-worker-0 -- ls /mnt/blob/data"
   ]
  },
  {
   "source": [
    "Now that we have training running proceed to [Step4 Simulate Spot node Eviction](/Step4-SimulateStop.ipynb)"
   ],
   "cell_type": "markdown",
   "metadata": {}
  }
 ]
}